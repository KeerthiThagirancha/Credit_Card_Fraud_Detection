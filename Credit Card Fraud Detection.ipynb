{
 "cells": [
  {
   "cell_type": "code",
   "execution_count": 1,
   "id": "0bc55044",
   "metadata": {},
   "outputs": [],
   "source": [
    "import numpy as np\n",
    "import pandas as pd\n",
    "import sklearn\n",
    "import scipy\n",
    "import matplotlib.pyplot as plt\n",
    "import seaborn as sns"
   ]
  },
  {
   "cell_type": "code",
   "execution_count": 2,
   "id": "9c107f41",
   "metadata": {},
   "outputs": [],
   "source": [
    "data = pd.read_csv('creditcardcsvpresent1.csv')"
   ]
  },
  {
   "cell_type": "code",
   "execution_count": 3,
   "id": "d847f52c",
   "metadata": {},
   "outputs": [
    {
     "data": {
      "text/html": [
       "<div>\n",
       "<style scoped>\n",
       "    .dataframe tbody tr th:only-of-type {\n",
       "        vertical-align: middle;\n",
       "    }\n",
       "\n",
       "    .dataframe tbody tr th {\n",
       "        vertical-align: top;\n",
       "    }\n",
       "\n",
       "    .dataframe thead th {\n",
       "        text-align: right;\n",
       "    }\n",
       "</style>\n",
       "<table border=\"1\" class=\"dataframe\">\n",
       "  <thead>\n",
       "    <tr style=\"text-align: right;\">\n",
       "      <th></th>\n",
       "      <th>Merchant_id</th>\n",
       "      <th>Average Amount/transaction/day</th>\n",
       "      <th>Transaction_amount</th>\n",
       "      <th>Is declined</th>\n",
       "      <th>Total Number of declines/day</th>\n",
       "      <th>isForeignTransaction</th>\n",
       "      <th>isHighRiskCountry</th>\n",
       "      <th>Daily_chargeback_avg_amt</th>\n",
       "      <th>6_month_avg_chbk_amt</th>\n",
       "      <th>6-month_chbk_freq</th>\n",
       "      <th>isFradulent</th>\n",
       "    </tr>\n",
       "  </thead>\n",
       "  <tbody>\n",
       "    <tr>\n",
       "      <th>0</th>\n",
       "      <td>3160040998</td>\n",
       "      <td>100.0</td>\n",
       "      <td>3000.0</td>\n",
       "      <td>0</td>\n",
       "      <td>5</td>\n",
       "      <td>1</td>\n",
       "      <td>1</td>\n",
       "      <td>0</td>\n",
       "      <td>0.0</td>\n",
       "      <td>0</td>\n",
       "      <td>1</td>\n",
       "    </tr>\n",
       "    <tr>\n",
       "      <th>1</th>\n",
       "      <td>3160040998</td>\n",
       "      <td>100.0</td>\n",
       "      <td>4300.0</td>\n",
       "      <td>0</td>\n",
       "      <td>5</td>\n",
       "      <td>1</td>\n",
       "      <td>1</td>\n",
       "      <td>0</td>\n",
       "      <td>0.0</td>\n",
       "      <td>0</td>\n",
       "      <td>1</td>\n",
       "    </tr>\n",
       "    <tr>\n",
       "      <th>2</th>\n",
       "      <td>3160041896</td>\n",
       "      <td>185.5</td>\n",
       "      <td>4823.0</td>\n",
       "      <td>1</td>\n",
       "      <td>5</td>\n",
       "      <td>0</td>\n",
       "      <td>0</td>\n",
       "      <td>0</td>\n",
       "      <td>0.0</td>\n",
       "      <td>0</td>\n",
       "      <td>1</td>\n",
       "    </tr>\n",
       "    <tr>\n",
       "      <th>3</th>\n",
       "      <td>3160141996</td>\n",
       "      <td>185.5</td>\n",
       "      <td>5008.5</td>\n",
       "      <td>1</td>\n",
       "      <td>8</td>\n",
       "      <td>0</td>\n",
       "      <td>0</td>\n",
       "      <td>0</td>\n",
       "      <td>0.0</td>\n",
       "      <td>0</td>\n",
       "      <td>1</td>\n",
       "    </tr>\n",
       "    <tr>\n",
       "      <th>4</th>\n",
       "      <td>3160241992</td>\n",
       "      <td>500.0</td>\n",
       "      <td>26000.0</td>\n",
       "      <td>0</td>\n",
       "      <td>0</td>\n",
       "      <td>1</td>\n",
       "      <td>1</td>\n",
       "      <td>800</td>\n",
       "      <td>677.2</td>\n",
       "      <td>6</td>\n",
       "      <td>1</td>\n",
       "    </tr>\n",
       "    <tr>\n",
       "      <th>...</th>\n",
       "      <td>...</td>\n",
       "      <td>...</td>\n",
       "      <td>...</td>\n",
       "      <td>...</td>\n",
       "      <td>...</td>\n",
       "      <td>...</td>\n",
       "      <td>...</td>\n",
       "      <td>...</td>\n",
       "      <td>...</td>\n",
       "      <td>...</td>\n",
       "      <td>...</td>\n",
       "    </tr>\n",
       "    <tr>\n",
       "      <th>3070</th>\n",
       "      <td>6661273532</td>\n",
       "      <td>500.0</td>\n",
       "      <td>11000.0</td>\n",
       "      <td>1</td>\n",
       "      <td>0</td>\n",
       "      <td>0</td>\n",
       "      <td>0</td>\n",
       "      <td>754</td>\n",
       "      <td>585.0</td>\n",
       "      <td>7</td>\n",
       "      <td>0</td>\n",
       "    </tr>\n",
       "    <tr>\n",
       "      <th>3071</th>\n",
       "      <td>6661273532</td>\n",
       "      <td>800.0</td>\n",
       "      <td>0.0</td>\n",
       "      <td>1</td>\n",
       "      <td>0</td>\n",
       "      <td>0</td>\n",
       "      <td>0</td>\n",
       "      <td>754</td>\n",
       "      <td>585.0</td>\n",
       "      <td>7</td>\n",
       "      <td>0</td>\n",
       "    </tr>\n",
       "    <tr>\n",
       "      <th>3072</th>\n",
       "      <td>6661273533</td>\n",
       "      <td>800.0</td>\n",
       "      <td>20800.0</td>\n",
       "      <td>1</td>\n",
       "      <td>0</td>\n",
       "      <td>0</td>\n",
       "      <td>0</td>\n",
       "      <td>754</td>\n",
       "      <td>585.0</td>\n",
       "      <td>7</td>\n",
       "      <td>0</td>\n",
       "    </tr>\n",
       "    <tr>\n",
       "      <th>3073</th>\n",
       "      <td>6661273532</td>\n",
       "      <td>1500.0</td>\n",
       "      <td>12000.0</td>\n",
       "      <td>1</td>\n",
       "      <td>0</td>\n",
       "      <td>1</td>\n",
       "      <td>1</td>\n",
       "      <td>754</td>\n",
       "      <td>585.0</td>\n",
       "      <td>7</td>\n",
       "      <td>0</td>\n",
       "    </tr>\n",
       "    <tr>\n",
       "      <th>3074</th>\n",
       "      <td>6661273533</td>\n",
       "      <td>1500.0</td>\n",
       "      <td>36000.0</td>\n",
       "      <td>1</td>\n",
       "      <td>0</td>\n",
       "      <td>1</td>\n",
       "      <td>1</td>\n",
       "      <td>754</td>\n",
       "      <td>585.0</td>\n",
       "      <td>7</td>\n",
       "      <td>0</td>\n",
       "    </tr>\n",
       "  </tbody>\n",
       "</table>\n",
       "<p>3075 rows × 11 columns</p>\n",
       "</div>"
      ],
      "text/plain": [
       "      Merchant_id  Average Amount/transaction/day  Transaction_amount  \\\n",
       "0      3160040998                           100.0              3000.0   \n",
       "1      3160040998                           100.0              4300.0   \n",
       "2      3160041896                           185.5              4823.0   \n",
       "3      3160141996                           185.5              5008.5   \n",
       "4      3160241992                           500.0             26000.0   \n",
       "...           ...                             ...                 ...   \n",
       "3070   6661273532                           500.0             11000.0   \n",
       "3071   6661273532                           800.0                 0.0   \n",
       "3072   6661273533                           800.0             20800.0   \n",
       "3073   6661273532                          1500.0             12000.0   \n",
       "3074   6661273533                          1500.0             36000.0   \n",
       "\n",
       "      Is declined  Total Number of declines/day  isForeignTransaction  \\\n",
       "0               0                             5                     1   \n",
       "1               0                             5                     1   \n",
       "2               1                             5                     0   \n",
       "3               1                             8                     0   \n",
       "4               0                             0                     1   \n",
       "...           ...                           ...                   ...   \n",
       "3070            1                             0                     0   \n",
       "3071            1                             0                     0   \n",
       "3072            1                             0                     0   \n",
       "3073            1                             0                     1   \n",
       "3074            1                             0                     1   \n",
       "\n",
       "      isHighRiskCountry  Daily_chargeback_avg_amt  6_month_avg_chbk_amt  \\\n",
       "0                     1                         0                   0.0   \n",
       "1                     1                         0                   0.0   \n",
       "2                     0                         0                   0.0   \n",
       "3                     0                         0                   0.0   \n",
       "4                     1                       800                 677.2   \n",
       "...                 ...                       ...                   ...   \n",
       "3070                  0                       754                 585.0   \n",
       "3071                  0                       754                 585.0   \n",
       "3072                  0                       754                 585.0   \n",
       "3073                  1                       754                 585.0   \n",
       "3074                  1                       754                 585.0   \n",
       "\n",
       "      6-month_chbk_freq  isFradulent  \n",
       "0                     0            1  \n",
       "1                     0            1  \n",
       "2                     0            1  \n",
       "3                     0            1  \n",
       "4                     6            1  \n",
       "...                 ...          ...  \n",
       "3070                  7            0  \n",
       "3071                  7            0  \n",
       "3072                  7            0  \n",
       "3073                  7            0  \n",
       "3074                  7            0  \n",
       "\n",
       "[3075 rows x 11 columns]"
      ]
     },
     "execution_count": 3,
     "metadata": {},
     "output_type": "execute_result"
    }
   ],
   "source": [
    "data"
   ]
  },
  {
   "cell_type": "code",
   "execution_count": 4,
   "id": "c4085fc0",
   "metadata": {},
   "outputs": [
    {
     "name": "stdout",
     "output_type": "stream",
     "text": [
      "<class 'pandas.core.frame.DataFrame'>\n",
      "RangeIndex: 3075 entries, 0 to 3074\n",
      "Data columns (total 11 columns):\n",
      " #   Column                          Non-Null Count  Dtype  \n",
      "---  ------                          --------------  -----  \n",
      " 0   Merchant_id                     3075 non-null   int64  \n",
      " 1   Average Amount/transaction/day  3075 non-null   float64\n",
      " 2   Transaction_amount              3075 non-null   float64\n",
      " 3   Is declined                     3075 non-null   int64  \n",
      " 4   Total Number of declines/day    3075 non-null   int64  \n",
      " 5   isForeignTransaction            3075 non-null   int64  \n",
      " 6   isHighRiskCountry               3075 non-null   int64  \n",
      " 7   Daily_chargeback_avg_amt        3075 non-null   int64  \n",
      " 8   6_month_avg_chbk_amt            3075 non-null   float64\n",
      " 9   6-month_chbk_freq               3075 non-null   int64  \n",
      " 10  isFradulent                     3075 non-null   int64  \n",
      "dtypes: float64(3), int64(8)\n",
      "memory usage: 264.4 KB\n"
     ]
    }
   ],
   "source": [
    "data.info()"
   ]
  },
  {
   "cell_type": "code",
   "execution_count": 5,
   "id": "fb6aa1d7",
   "metadata": {},
   "outputs": [
    {
     "data": {
      "text/plain": [
       "False"
      ]
     },
     "execution_count": 5,
     "metadata": {},
     "output_type": "execute_result"
    }
   ],
   "source": [
    "data.isnull().values.any()"
   ]
  },
  {
   "cell_type": "code",
   "execution_count": 9,
   "id": "6b241d28",
   "metadata": {},
   "outputs": [
    {
     "data": {
      "text/plain": [
       "<Figure size 432x216 with 0 Axes>"
      ]
     },
     "metadata": {},
     "output_type": "display_data"
    }
   ],
   "source": [
    "#Packages related to general operating system & warnings\n",
    "import os \n",
    "import warnings\n",
    "warnings.filterwarnings('ignore')\n",
    "#Packages related to data importing, manipulation, exploratory data #analysis, data understanding\n",
    "import numpy as np\n",
    "import pandas as pd\n",
    "from pandas import Series, DataFrame\n",
    "#Packages related to data visualizaiton\n",
    "import seaborn as sns\n",
    "import matplotlib.pyplot as plt\n",
    "%matplotlib inline\n",
    "#Setting plot sizes and type of plot\n",
    "plt.rc(\"font\", size=14)\n",
    "plt.rcParams['axes.grid'] = True\n",
    "plt.figure(figsize=(6,3))\n",
    "plt.gray()\n",
    "from matplotlib.backends.backend_pdf import PdfPages\n",
    "from sklearn.model_selection import train_test_split, GridSearchCV\n",
    "from sklearn import metrics\n",
    "from sklearn.impute import MissingIndicator, SimpleImputer\n",
    "from sklearn.preprocessing import  PolynomialFeatures, KBinsDiscretizer, FunctionTransformer\n",
    "from sklearn.preprocessing import StandardScaler, MinMaxScaler, MaxAbsScaler\n",
    "from sklearn.preprocessing import LabelEncoder, OneHotEncoder, LabelBinarizer, OrdinalEncoder\n",
    "import statsmodels.formula.api as smf\n",
    "import statsmodels.tsa as tsa\n",
    "from sklearn.linear_model import LogisticRegression, LinearRegression, ElasticNet, Lasso, Ridge\n",
    "from sklearn.neighbors import KNeighborsClassifier, KNeighborsRegressor\n",
    "from sklearn.tree import DecisionTreeClassifier, DecisionTreeRegressor, export_graphviz\n",
    "from sklearn.ensemble import BaggingClassifier, BaggingRegressor,RandomForestClassifier,RandomForestRegressor\n",
    "from sklearn.ensemble import GradientBoostingClassifier,GradientBoostingRegressor, AdaBoostClassifier, AdaBoostRegressor \n",
    "from sklearn.svm import LinearSVC, LinearSVR, SVC, SVR\n",
    "from sklearn.metrics import f1_score\n",
    "from sklearn.metrics import accuracy_score\n",
    "from sklearn.metrics import confusion_matrix"
   ]
  },
  {
   "cell_type": "code",
   "execution_count": 17,
   "id": "d3c4a653",
   "metadata": {},
   "outputs": [
    {
     "name": "stdout",
     "output_type": "stream",
     "text": [
      "Total number of Trnsactions are 3075\n",
      "Number of Normal Transactions are 2627\n",
      "Number of fraudulent Transactions are 447\n",
      "Percentage of fraud Transactions is 17.02\n"
     ]
    }
   ],
   "source": [
    "Total_transactions = len(data)\n",
    "normal = len(data[data.isFradulent == 0])\n",
    "fraudulent = len(data[data.isFradulent == 1])\n",
    "fraud_percentage = round(fraudulent/normal*100, 2)\n",
    "print('Total number of Trnsactions are {}'.format(Total_transactions))\n",
    "print('Number of Normal Transactions are {}'.format(normal))\n",
    "print('Number of fraudulent Transactions are {}'.format(fraudulent))\n",
    "print('Percentage of fraud Transactions is {}'.format(fraud_percentage))"
   ]
  },
  {
   "cell_type": "code",
   "execution_count": 18,
   "id": "8e294403",
   "metadata": {},
   "outputs": [
    {
     "name": "stdout",
     "output_type": "stream",
     "text": [
      "<class 'pandas.core.frame.DataFrame'>\n",
      "RangeIndex: 3075 entries, 0 to 3074\n",
      "Data columns (total 11 columns):\n",
      " #   Column                          Non-Null Count  Dtype  \n",
      "---  ------                          --------------  -----  \n",
      " 0   Merchant_id                     3075 non-null   int64  \n",
      " 1   Average Amount/transaction/day  3075 non-null   float64\n",
      " 2   Transaction_amount              3075 non-null   float64\n",
      " 3   Is declined                     3075 non-null   int64  \n",
      " 4   Total Number of declines/day    3075 non-null   int64  \n",
      " 5   isForeignTransaction            3075 non-null   int64  \n",
      " 6   isHighRiskCountry               3075 non-null   int64  \n",
      " 7   Daily_chargeback_avg_amt        3075 non-null   int64  \n",
      " 8   6_month_avg_chbk_amt            3075 non-null   float64\n",
      " 9   6-month_chbk_freq               3075 non-null   int64  \n",
      " 10  isFradulent                     3075 non-null   int64  \n",
      "dtypes: float64(3), int64(8)\n",
      "memory usage: 264.4 KB\n"
     ]
    }
   ],
   "source": [
    "data.info()"
   ]
  },
  {
   "cell_type": "code",
   "execution_count": 20,
   "id": "fe68de96",
   "metadata": {},
   "outputs": [],
   "source": [
    "sc = StandardScaler()\n",
    "amount = data['Transaction_amount'].values\n",
    "data['Transaction_amount'] = sc.fit_transform(amount.reshape(-1, 1))"
   ]
  },
  {
   "cell_type": "code",
   "execution_count": 21,
   "id": "9cca2c40",
   "metadata": {},
   "outputs": [],
   "source": [
    "data.drop(['Is declined'], axis=1, inplace=True)"
   ]
  },
  {
   "cell_type": "code",
   "execution_count": 22,
   "id": "f1abdcce",
   "metadata": {},
   "outputs": [],
   "source": [
    "data.drop_duplicates(inplace=True)"
   ]
  },
  {
   "cell_type": "code",
   "execution_count": 24,
   "id": "b3ea4494",
   "metadata": {},
   "outputs": [],
   "source": [
    "X = data.drop('isFradulent', axis = 1).values\n",
    "y = data['isFradulent'].values"
   ]
  },
  {
   "cell_type": "code",
   "execution_count": 25,
   "id": "2a68129e",
   "metadata": {},
   "outputs": [],
   "source": [
    "from sklearn.metrics import f1_score\n",
    "from sklearn.metrics import accuracy_score\n",
    "from sklearn.metrics import confusion_matrix"
   ]
  },
  {
   "cell_type": "code",
   "execution_count": 26,
   "id": "2d740de6",
   "metadata": {},
   "outputs": [],
   "source": [
    "X_train, X_test, y_train, y_test = train_test_split(X, y, test_size = 0.25, random_state = 1)"
   ]
  },
  {
   "cell_type": "code",
   "execution_count": 27,
   "id": "a2e4c181",
   "metadata": {},
   "outputs": [],
   "source": [
    "#Decision Tree\n",
    "DT = DecisionTreeClassifier(max_depth = 4, criterion = 'entropy')\n",
    "DT.fit(X_train, y_train)\n",
    "dt_yhat = DT.predict(X_test)"
   ]
  },
  {
   "cell_type": "code",
   "execution_count": 28,
   "id": "2cd53e16",
   "metadata": {},
   "outputs": [
    {
     "name": "stdout",
     "output_type": "stream",
     "text": [
      "Accuracy score of the Decision Tree model is 0.9648894668400521\n"
     ]
    }
   ],
   "source": [
    "print('Accuracy score of the Decision Tree model is {}'.format(accuracy_score(y_test, dt_yhat)))"
   ]
  },
  {
   "cell_type": "code",
   "execution_count": 29,
   "id": "f0a3ce9d",
   "metadata": {},
   "outputs": [
    {
     "name": "stdout",
     "output_type": "stream",
     "text": [
      "F1 score of the Decision Tree model is 0.8720379146919433\n"
     ]
    }
   ],
   "source": [
    "print('F1 score of the Decision Tree model is {}'.format(f1_score(y_test, dt_yhat)))\n"
   ]
  },
  {
   "cell_type": "code",
   "execution_count": 30,
   "id": "d9017c10",
   "metadata": {},
   "outputs": [
    {
     "data": {
      "text/plain": [
       "array([[650,   4],\n",
       "       [ 23,  92]], dtype=int64)"
      ]
     },
     "execution_count": 30,
     "metadata": {},
     "output_type": "execute_result"
    }
   ],
   "source": [
    "confusion_matrix(y_test, dt_yhat, labels = [0, 1])"
   ]
  },
  {
   "cell_type": "code",
   "execution_count": 31,
   "id": "1b57a11c",
   "metadata": {},
   "outputs": [],
   "source": [
    "#KNN\n",
    "n = 7\n",
    "KNN = KNeighborsClassifier(n_neighbors = n)\n",
    "KNN.fit(X_train, y_train)\n",
    "knn_yhat = KNN.predict(X_test)"
   ]
  },
  {
   "cell_type": "code",
   "execution_count": 32,
   "id": "7a416c98",
   "metadata": {},
   "outputs": [
    {
     "name": "stdout",
     "output_type": "stream",
     "text": [
      "Accuracy score of the K-Nearest Neighbors model is 0.8660598179453837\n"
     ]
    }
   ],
   "source": [
    "print('Accuracy score of the K-Nearest Neighbors model is {}'.format(accuracy_score(y_test, knn_yhat)))"
   ]
  },
  {
   "cell_type": "code",
   "execution_count": 33,
   "id": "641aff81",
   "metadata": {},
   "outputs": [
    {
     "name": "stdout",
     "output_type": "stream",
     "text": [
      "F1 score of the K-Nearest Neighbors model is 0.23703703703703705\n"
     ]
    }
   ],
   "source": [
    "print('F1 score of the K-Nearest Neighbors model is {}'.format(f1_score(y_test, knn_yhat)))"
   ]
  },
  {
   "cell_type": "code",
   "execution_count": 34,
   "id": "157c0299",
   "metadata": {},
   "outputs": [],
   "source": [
    "#Logistic Regression\n",
    "lr = LogisticRegression()\n",
    "lr.fit(X_train, y_train)\n",
    "lr_yhat = lr.predict(X_test)"
   ]
  },
  {
   "cell_type": "code",
   "execution_count": 35,
   "id": "4edafa0f",
   "metadata": {},
   "outputs": [
    {
     "name": "stdout",
     "output_type": "stream",
     "text": [
      "Accuracy score of the Logistic Regression model is 0.8504551365409623\n"
     ]
    }
   ],
   "source": [
    "print('Accuracy score of the Logistic Regression model is {}'.format(accuracy_score(y_test, lr_yhat)))"
   ]
  },
  {
   "cell_type": "code",
   "execution_count": 36,
   "id": "eb38850b",
   "metadata": {},
   "outputs": [
    {
     "name": "stdout",
     "output_type": "stream",
     "text": [
      "F1 score of the Logistic Regression model is 0.0\n"
     ]
    }
   ],
   "source": [
    "print('F1 score of the Logistic Regression model is {}'.format(f1_score(y_test, lr_yhat)))"
   ]
  },
  {
   "cell_type": "code",
   "execution_count": 37,
   "id": "306d62e0",
   "metadata": {},
   "outputs": [],
   "source": [
    "#Suppot Vector Machine\n",
    "svm = SVC()\n",
    "svm.fit(X_train, y_train)\n",
    "svm_yhat = svm.predict(X_test)"
   ]
  },
  {
   "cell_type": "code",
   "execution_count": 38,
   "id": "b69a3dca",
   "metadata": {},
   "outputs": [
    {
     "name": "stdout",
     "output_type": "stream",
     "text": [
      "Accuracy score of the Support Vector Machines model is 0.8504551365409623\n"
     ]
    }
   ],
   "source": [
    "print('Accuracy score of the Support Vector Machines model is {}'.format(accuracy_score(y_test, svm_yhat)))"
   ]
  },
  {
   "cell_type": "code",
   "execution_count": 39,
   "id": "90e3a70a",
   "metadata": {},
   "outputs": [
    {
     "name": "stdout",
     "output_type": "stream",
     "text": [
      "F1 score of the Support Vector Machines model is 0.0\n"
     ]
    }
   ],
   "source": [
    "print('F1 score of the Support Vector Machines model is {}'.format(f1_score(y_test, svm_yhat)))"
   ]
  },
  {
   "cell_type": "code",
   "execution_count": 40,
   "id": "3f019f4b",
   "metadata": {},
   "outputs": [],
   "source": [
    "#Random Forest\n",
    "rf = RandomForestClassifier(max_depth = 4)\n",
    "rf.fit(X_train, y_train)\n",
    "rf_yhat = rf.predict(X_test)"
   ]
  },
  {
   "cell_type": "code",
   "execution_count": 41,
   "id": "29e6d46b",
   "metadata": {},
   "outputs": [
    {
     "name": "stdout",
     "output_type": "stream",
     "text": [
      "Accuracy score of the Random Forest model is 0.9687906371911573\n"
     ]
    }
   ],
   "source": [
    "print('Accuracy score of the Random Forest model is {}'.format(accuracy_score(y_test, rf_yhat)))"
   ]
  },
  {
   "cell_type": "code",
   "execution_count": 42,
   "id": "f9f1812a",
   "metadata": {},
   "outputs": [
    {
     "name": "stdout",
     "output_type": "stream",
     "text": [
      "F1 score of the Random Forest model is 0.8888888888888887\n"
     ]
    }
   ],
   "source": [
    "print('F1 score of the Random Forest model is {}'.format(f1_score(y_test, rf_yhat)))"
   ]
  },
  {
   "cell_type": "code",
   "execution_count": null,
   "id": "64e24bbf",
   "metadata": {},
   "outputs": [],
   "source": []
  }
 ],
 "metadata": {
  "kernelspec": {
   "display_name": "Python 3",
   "language": "python",
   "name": "python3"
  },
  "language_info": {
   "codemirror_mode": {
    "name": "ipython",
    "version": 3
   },
   "file_extension": ".py",
   "mimetype": "text/x-python",
   "name": "python",
   "nbconvert_exporter": "python",
   "pygments_lexer": "ipython3",
   "version": "3.8.8"
  }
 },
 "nbformat": 4,
 "nbformat_minor": 5
}
